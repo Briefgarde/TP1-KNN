{
 "cells": [
  {
   "cell_type": "markdown",
   "metadata": {},
   "source": [
    "# TP1: Introduction to Vector Operations\n",
    "\n",
    "Please ensure that you complete and provide answers to questions 1.1, 1.2, 1.3, and all of section 3."
   ]
  },
  {
   "cell_type": "code",
   "execution_count": 154,
   "metadata": {},
   "outputs": [
    {
     "name": "stdout",
     "output_type": "stream",
     "text": [
      "The autoreload extension is already loaded. To reload it, use:\n",
      "  %reload_ext autoreload\n"
     ]
    }
   ],
   "source": [
    "import numpy as np \n",
    "import matplotlib.pyplot as plt\n",
    "\n",
    "%matplotlib inline\n",
    "%load_ext autoreload\n",
    "%autoreload 2"
   ]
  },
  {
   "cell_type": "markdown",
   "metadata": {},
   "source": [
    "## Exercise 1: Vectors\n",
    "\n",
    "### 1.1 Vector Notation\n",
    "\n",
    "Which of the following expressions use correct notation? When the expression does make sense, give its length. In the following, $\\mathbf{a}$ and $\\mathbf{b}$ are 10-vectors, and $\\mathbf{c}$ is a 20-vector.\n",
    "\n",
    "1. $\\mathbf{a} + \\mathbf{b} - \\mathbf{c}_{3:12}$\n",
    "2. $(\\mathbf{a}, \\mathbf{b}, \\mathbf{c}_{3:13})$\n",
    "3. $2\\mathbf{a} + \\mathbf{c}$\n",
    "4. $(\\mathbf{a}, 1) + (\\mathbf{c}_1, \\mathbf{b})$\n",
    "5. $((\\mathbf{a}, \\mathbf{b}), \\mathbf{a})$\n",
    "6. $[\\mathbf{a} \\ \\mathbf{b}] + 4\\mathbf{c}$\n",
    "7. $\\begin{bmatrix} \\mathbf{a} \\\\ \\mathbf{b} \\end{bmatrix} + 4\\mathbf{c}$\n",
    "\n",
    "### Exercise 1.2: Interpreting Sparsity\n",
    "\n",
    "Suppose the $n$-vector $\\mathbf{x}$ is sparse, i.e., has only a few nonzero entries. Give a short sentence or two explaining what this means in each of the following contexts:\n",
    "\n",
    "1. $\\mathbf{x}$ represents the daily cash flow of some business over $n$ days.\n",
    "2. $\\mathbf{x}$ represents the annual dollar value purchases by a customer of $n$ products or services.\n",
    "3. $\\mathbf{x}$ represents a portfolio, i.e., the dollar value holdings of $n$ stocks.\n",
    "4. $\\mathbf{x}$ represents a bill of materials for a project, i.e., the amounts of $n$ materials needed.\n",
    "5. $\\mathbf{x}$ represents a monochrome image, i.e., the brightness values of $n$ pixels.\n",
    "6. $\\mathbf{x}$ is the daily rainfall in a location over one year.\n",
    "\n",
    "### Exercise 1.3: Total Score from Course Record\n",
    "\n",
    "The record for each student in a class is given as a 10-vector $ \\mathbf{r} $, where:\n",
    "\n",
    "- $ r_1, \\ldots, r_8 $ are the grades for 8 homework assignments, each on a 0–10 scale.\n",
    "- $ r_9 $ is the midterm exam grade on a 0–120 scale.\n",
    "- $ r_{10} $ is the final exam score on a 0–160 scale.\n",
    "\n",
    "The student’s total course score $ s $, on a 0–100 scale, is based on:\n",
    "\n",
    "- 25% from the homework,\n",
    "- 35% from the midterm exam,\n",
    "- 40% from the final exam.\n",
    "\n",
    "Express $ s $ in the form $ s = \\mathbf{w}^T \\mathbf{r} $. That is, determine the 10-vector $ \\mathbf{w} $. You can give the coefficients of $ \\mathbf{w} $ to four decimal places.\n",
    "\n",
    "### Exercise 1.4: Cheapest Supplier\n",
    "\n",
    "You must buy $n$ raw materials in quantities given by the $n$-vector $\\mathbf{q}$, where $q_i$ is the amount of raw material $i$ that you must buy. A set of $K$ potential suppliers offer the raw materials at prices given by the $n$-vectors $\\mathbf{p}_1, \\ldots, \\mathbf{p}_K$. (Note that $\\mathbf{p}_k$ is an $n$-vector; $(\\mathbf{p}_k)_i$ is the price that supplier $k$ charges per unit of raw material $i$.) We will assume that all quantities and prices are positive.\n",
    "\n",
    "- If you must choose just one supplier, how would you do it? Your answer should use vector notation.\n",
    "\n",
    "- A (highly paid) consultant tells you that you might do better (i.e., get a better total cost) by splitting your order into two, by choosing two suppliers and ordering $\\frac{1}{2} \\mathbf{q}$ (i.e., half the quantities) from each of the two. He argues that having a diversity of suppliers is better. Is he right? If so, explain how to find the two suppliers you would use to fill half the order.\n",
    "\n",
    "### Exercise 1.5: Draw the vectors\n",
    "\n",
    "Draw the vectors $\\mathbf{a} = [2]$, $\\mathbf{b} = [3]$ as points and as displacement vectors.\n",
    "\n",
    "- Explain the difference between points and displacement vectors.\n",
    "- Demonstrate the concept of displacement vectors by visualizing different versions of the same displacement vector.\n",
    "\n",
    "### Exercise 1.6: Compute and visualize\n",
    "\n",
    "#### Exercise 1.6.1\n",
    "\n",
    "Compute and visualize the following quantities:\n",
    "\n",
    "1. $\\mathbf{a} + \\mathbf{b}$\n",
    "2. $-\\mathbf{b}$\n",
    "3. $\\mathbf{a} - \\mathbf{b}$\n",
    "4. $3\\mathbf{a}$. Explain the effect of scalar-vector multiplication $c\\mathbf{a}$, where $c \\in \\mathbb{R}$ and $\\mathbf{a} \\in \\mathbb{R}^d$. What are the main cases as a function of $c$? Provide examples demonstrating these cases.\n",
    "5. $2\\mathbf{a} + 3\\mathbf{b}$ (linear combination of vectors).\n",
    "\n",
    "#### Exercise 1.6.2\n",
    "\n",
    "Repeat the computations and visualizations of the above quantities (from item 3), but this time for: $\\mathbf{a} = [3, 4]$, $\\mathbf{b} = [-2, 1]$.\n",
    "\n",
    "### Exercise 1.7: Property demonstration\n",
    "\n",
    "Demonstrate that for any $\\mathbf{a}, \\mathbf{b} \\in \\mathbb{R}^d$, and $\\gamma, \\delta \\in \\mathbb{R}$, the following properties hold:\n",
    "\n",
    "1. $ (\\gamma\\delta)\\mathbf{a} = \\gamma(\\delta\\mathbf{a}) $ (Associative Property)\n",
    "\n",
    "2. $ (\\gamma + \\delta)\\mathbf{a} = \\gamma\\mathbf{a} + \\delta\\mathbf{a} $\n"
   ]
  },
  {
   "cell_type": "markdown",
   "metadata": {},
   "source": [
    "### Exercise 1: Answers\n",
    "\n",
    "Can be done here or on a report.\n"
   ]
  },
  {
   "cell_type": "markdown",
   "metadata": {},
   "source": [
    "## Exercice 2: Inner product\n",
    "\n",
    "### Exercise 2.1\n",
    "\n",
    "Given a vector $\\mathbf{a} = [3, 5]^T$, propose a mathematical formulation that allows you to find vectors $\\mathbf{b}$ for which $\\mathbf{a}^T \\mathbf{b} = 0$. Propose different vectors $\\mathbf{b}$ that satisfy this condition and draw them together with $\\mathbf{a}$. Repeat the exercise with different $\\mathbf{a}$ vectors. What do you observe?\n",
    "\n",
    "### Exercise 2.1: Inner product properties\n",
    "\n",
    "- Show the following basic properties of inner products:\n",
    "  1.  $\\mathbf{x}^T \\mathbf{y} = \\mathbf{y}^T \\mathbf{x}$\n",
    "  2.  $(a\\mathbf{x})^T \\mathbf{y} = \\mathbf{x}^T (a\\mathbf{y})$\n",
    "  3.  $(\\mathbf{x} + \\mathbf{y})^T \\mathbf{z} = \\mathbf{x}^T \\mathbf{z} + \\mathbf{y}^T \\mathbf{z}$, where $a \\in \\mathbb{R}$, $\\mathbf{x}, \\mathbf{y}, \\mathbf{z} \\in \\mathbb{R}^d$.\n",
    "- Use the inner product to compute:\n",
    "  - The average of the elements of a vector $\\mathbf{x}$.\n",
    "  - The weighted average of the elements $x_2, x_5, x_7$, where $w_2 = 1$, $w_5 = 7$, $w_7 = 2$.\n",
    "- Using the previous result, compute the standard deviation of $\\mathbf{x}$ using only vector operations.\n",
    "\n",
    "### Exercise 2.2: Norm visualization\n",
    "\n",
    "**Programming**:\n",
    "\n",
    "1. Write a function `CreateUnitCircleSet(n)` which returns a matrix of dimensionality $n \\times 2$ with points that regularly cover the unit circle. Plot the returned set of points.\n",
    "2. Draw the level sets of the norm function $\\|\\mathbf{x}\\| = \\mathbf{x}^T \\mathbf{x}, \\mathbf{x} \\in [-1, 1] \\times [-1, 1]$, in both two-dimensional and three-dimensional graphs. Explain the two graphs and their relation with the graph produced in the previous question.\n",
    "3. Think of the norm of a vector as a function. Define your own two-dimensional function and draw its level sets in two and three dimensions.\n",
    "\n",
    "### Exercise 2.3: What can you say about $\\frac{\\mathbf{x}}{\\|\\mathbf{x}\\|}$ ?\n",
    "\n",
    "1. What does $\\frac{\\mathbf{x}}{\\|\\mathbf{x}\\|}$ do?\n",
    "2. What is the result, and what are the properties of the result? Does it have a norm, and if so, what is its value? Provide a proof of the result.\n",
    "\n",
    "3. Draw the relationship between $\\mathbf{x}$ and $\\frac{\\mathbf{x}}{\\|\\mathbf{x}\\|}$.\n"
   ]
  },
  {
   "cell_type": "markdown",
   "metadata": {},
   "source": [
    "### Exercise 2: Answers\n",
    "\n",
    "Answer in your report."
   ]
  },
  {
   "cell_type": "markdown",
   "metadata": {},
   "source": [
    "## Exercise 3: From Linear Combination to Regression Model\n",
    "\n",
    "### Exercise 3.1: Linear Combination\n",
    "\n",
    "In this exercise, you will implement a Python function that computes a linear combination of features, laying the foundation for building a regression model.\n",
    "\n",
    "**Task**: Implement the `linear_combination` function bellow. This function will take:\n",
    "\n",
    "- **Matrix $X$**: An $n \\times d$ matrix, where each row $x_i^T$ represents a vector of $d$ features.\n",
    "- **Vector of coefficients $c$**: A vector of length $d$, where each element $c_j$ is a multiplier corresponding to feature $j$ in matrix $X$.\n",
    "- **Intercept**: A constant intercept added to the linear combination of $X$ and $c$.\n",
    "\n",
    "The function should output the linear combination of $X$ and $c$ with the intercept:\n",
    "\n",
    "$$\n",
    "\\hat{y_i} = intercept + \\sum_{j=1}^{d} c_j x_{ij}\n",
    "$$\n",
    "\n",
    "Or, in matrix form:\n",
    "\n",
    "$$\n",
    "\\hat{y} =  intercept + X \\cdot c\n",
    "$$\n",
    "\n",
    "### Example\n",
    "\n",
    "Suppose the matrix $X$ and the coefficient vector $c$, you would call the function as follows:\n",
    "\n",
    "```python\n",
    "y_hat = linear_combination(X, c, intercept)\n",
    "```"
   ]
  },
  {
   "cell_type": "markdown",
   "metadata": {},
   "source": [
    "### Step 1: Creating a Simple Dataset\n",
    "We'll first create a simple dataset to visualize and test our linear combination function."
   ]
  },
  {
   "cell_type": "code",
   "execution_count": 155,
   "metadata": {},
   "outputs": [
    {
     "name": "stdout",
     "output_type": "stream",
     "text": [
      "X shape:  (9, 1)\n",
      "y shape:  (9, 1)\n"
     ]
    },
    {
     "data": {
      "image/png": "[encoded data removed]",
      "text/plain": [
       "<Figure size 640x480 with 1 Axes>"
      ]
     },
     "metadata": {},
     "output_type": "display_data"
    }
   ],
   "source": [
    "import numpy as np\n",
    "import matplotlib.pyplot as plt\n",
    "\n",
    "# Define a simple dataset\n",
    "n = 9  # number of data points\n",
    "d = 1  # number of features\n",
    "\n",
    "X = np.arange(1, 1 + n).reshape(n, d)  # feature matrix\n",
    "y = (np.arange(3, 3 + n) + np.random.randn(n)).reshape(n, 1)  # target values with noise\n",
    "\n",
    "# Display the shape of X and y\n",
    "print(\"X shape: \", X.shape)\n",
    "print(\"y shape: \", y.shape)\n",
    "\n",
    "# Visualize the data\n",
    "plt.scatter(X, y)\n",
    "plt.xlabel(\"X\")\n",
    "plt.ylabel(\"Y\")\n",
    "plt.title(\"Scatter plot of X vs Y\")\n",
    "plt.show()"
   ]
  },
  {
   "cell_type": "markdown",
   "metadata": {},
   "source": [
    "### Step 2: Implement the `linear_combination` function\n",
    "\n",
    "**Task**: Implement the `linear_combination` function bellow.\n",
    "\n",
    "Use the following signature:\n",
    "\n",
    "```python\n",
    "def linear_combination(X, c, intercept):\n",
    "    # Your code here\n",
    "```\n",
    "\n",
    "Once done, you can test it."
   ]
  },
  {
   "cell_type": "code",
   "execution_count": 182,
   "metadata": {},
   "outputs": [
    {
     "name": "stdout",
     "output_type": "stream",
     "text": [
      "coefficient used [[-3]]\n",
      "intercept used -2\n",
      "----\n",
      "Predicted values (y_hat): [[ -5]\n",
      " [ -8]\n",
      " [-11]\n",
      " [-14]\n",
      " [-17]\n",
      " [-20]\n",
      " [-23]\n",
      " [-26]\n",
      " [-29]]\n",
      "Your implementation seems correct!\n"
     ]
    }
   ],
   "source": [
    "# Example coefficients and intercept to test the function\n",
    "c = np.array([-3]).reshape(d, 1)\n",
    "intercept = -2\n",
    "\n",
    "def linear_combination(X, c, intercept):\n",
    "    \"\"\"\n",
    "    Compute the linear combination: y = intercept + X * c\n",
    "    \"\"\"\n",
    "    assert X.shape[1] == c.shape[0], \"Dimension mismatch: X and c must have compatible dimensions\"\n",
    "    ###########################################\n",
    "    #            CHANGE HERE                  #\n",
    "    ###########################################\n",
    "    y = intercept + X.dot(c)\n",
    "    ###########################################\n",
    "    #            END CHANGE                   #\n",
    "    ###########################################\n",
    "    return y\n",
    "\n",
    "\n",
    "print(f\"coefficient used {c}\")\n",
    "print(f\"intercept used {intercept}\")\n",
    "print(\"----\")\n",
    "\n",
    "# Test the function\n",
    "y_hat = linear_combination(X, c, intercept)\n",
    "\n",
    "# Check output\n",
    "print(\"Predicted values (y_hat):\", y_hat)\n",
    "\n",
    "# Validate output shape\n",
    "if y_hat.shape != y.shape:\n",
    "    raise ValueError(\"The shape of y_hat does not match y.\")\n",
    "elif y_hat.mean() != -17.0 or y_hat.sum() != -153:\n",
    "    raise ValueError(\"y_hat values are incorrect.\")\n",
    "else:\n",
    "    print(\"Your implementation seems correct!\")\n"
   ]
  },
  {
   "cell_type": "markdown",
   "metadata": {},
   "source": [
    "### Step 3: Visualize the Linear Combination\n",
    "Now, let's visualize the line generated by our linear combination alongside the actual data."
   ]
  },
  {
   "cell_type": "code",
   "execution_count": 183,
   "metadata": {},
   "outputs": [
    {
     "data": {
      "image/png": "[encoded data removed]",
      "text/plain": [
       "<Figure size 640x480 with 1 Axes>"
      ]
     },
     "metadata": {},
     "output_type": "display_data"
    }
   ],
   "source": [
    "# Visualize the linear combination (red line) with the scatter plot of the actual data\n",
    "plt.scatter(X, y, label=\"Actual Data\")\n",
    "plt.plot(X, y_hat, color=\"red\", label=\"Linear Combination\")\n",
    "plt.xlabel(\"X\")\n",
    "plt.ylabel(\"Y\")\n",
    "plt.legend()\n",
    "plt.title(\"Actual Data vs Linear Combination\")\n",
    "plt.show()\n"
   ]
  },
  {
   "cell_type": "markdown",
   "metadata": {},
   "source": [
    "**Question**: Looking at the plot, do you think the chosen values for `c` and the `intercept` are good estimates for the data? Explain briefly.\n",
    "\n",
    "### Step 4: Experiment with Different Coefficients\n",
    "\n",
    "Now, experiment with different values for `c` and the `intercept` to see if you can better fit the data. Use the following cell to adjust the values and observe the results."
   ]
  },
  {
   "cell_type": "code",
   "execution_count": 184,
   "metadata": {},
   "outputs": [
    {
     "data": {
      "image/png": "[encoded data removed]",
      "text/plain": [
       "<Figure size 640x480 with 1 Axes>"
      ]
     },
     "metadata": {},
     "output_type": "display_data"
    }
   ],
   "source": [
    "\n",
    "# Modify the values below to test different coefficients and intercepts\n",
    "###########################################\n",
    "#            CHANGE HERE                  #\n",
    "###########################################\n",
    "c = np.array([1.15]).reshape(d, 1)\n",
    "intercept = 1\n",
    "###########################################\n",
    "#            END CHANGE                   #\n",
    "###########################################\n",
    "\n",
    "# Compute the new predicted values\n",
    "y_hat = linear_combination(X, c, intercept)\n",
    "\n",
    "# Visualize the updated line with the actual data\n",
    "plt.scatter(X, y, label=\"Actual Data\")\n",
    "plt.plot(X, y_hat, color=\"red\", label=\"Linear Combination\")\n",
    "plt.xlabel(\"X\")\n",
    "plt.ylabel(\"Y\")\n",
    "plt.legend()\n",
    "plt.title(\"Adjusted Linear Combination vs Actual Data\")\n",
    "plt.show()"
   ]
  },
  {
   "cell_type": "markdown",
   "metadata": {},
   "source": [
    "### Step 5: Error Metric\n",
    "\n",
    "Visual inspection is a useful first step, but we need a quantitative way to measure how well the line fits the data.\n",
    "\n",
    "**Task**: Implement an `error_metric` function that compares the true values `y` with the predicted values `y_hat`. You can choose any error metric, such as mean squared error (MSE).\n",
    "\n",
    "Implement the following function:\n",
    "\n",
    "```python\n",
    "def error_metric(y_true, y_pred):\n",
    "    # Your code here\n",
    "```\n",
    "\n",
    "Use the following cell to implement and test it.\n"
   ]
  },
  {
   "cell_type": "code",
   "execution_count": 185,
   "metadata": {},
   "outputs": [
    {
     "name": "stdout",
     "output_type": "stream",
     "text": [
      "The calculated error is: 0.5340351779878731\n"
     ]
    }
   ],
   "source": [
    "def error_metric(y_true, y_pred):\n",
    "    \"\"\"\n",
    "    Compute the Mean Squared Error between the true and predicted values.\n",
    "    \"\"\"\n",
    "    ###########################################\n",
    "    #            CHANGE HERE                  #\n",
    "    ###########################################\n",
    "    # error = (np.sum(np.square(y_pred-y_true))) / len(y_true)\n",
    "        #  This ^ version was my first attempt. It's correct, but it's a bit more confusing\n",
    "    error = np.mean(np.square(y_pred-y_true))\n",
    "    # THis is more logical and uses more obvious code notation. \n",
    "    ###########################################\n",
    "    #            END CHANGE                   #\n",
    "    ###########################################\n",
    "    return error\n",
    "\n",
    "# Test the error metric\n",
    "error = error_metric(y, y_hat)\n",
    "print(f\"The calculated error is: {error}\")"
   ]
  },
  {
   "cell_type": "markdown",
   "metadata": {},
   "source": [
    "### Step 6: Compare Different Parameter Choices\n",
    "\n",
    "Now that you have an error metric, let's compute the error for both the initial and the visually adjusted values of `c` and `intercept`. Use the following cell to compare the performance of different models."
   ]
  },
  {
   "cell_type": "code",
   "execution_count": 186,
   "metadata": {},
   "outputs": [
    {
     "name": "stdout",
     "output_type": "stream",
     "text": [
      "Error with initial parameters: 671.7877208261439\n",
      "Error with adjusted parameters: 0.5340351779878731\n"
     ]
    }
   ],
   "source": [
    "# Compute error for initial parameters\n",
    "###########################################\n",
    "#            CHANGE HERE                  #\n",
    "###########################################\n",
    "c_initial = np.array([-3]).reshape(d, 1)\n",
    "intercept = -2\n",
    "y_hat_initial = linear_combination(X, c_initial, intercept)\n",
    "error_initial = error_metric(y, y_hat_initial)\n",
    "###########################################\n",
    "#            END CHANGE                   #\n",
    "###########################################\n",
    "print(f\"Error with initial parameters: {error_initial}\")\n",
    "\n",
    "# Compute error for new parameters\n",
    "###########################################\n",
    "#            CHANGE HERE                  #\n",
    "###########################################\n",
    "c_initial = np.array([1.15]).reshape(d, 1)\n",
    "intercept = 1\n",
    "y_hat_initial = linear_combination(X, c_initial, intercept)\n",
    "error_new = error_metric(y, y_hat_initial)\n",
    "\n",
    "###########################################\n",
    "#            END CHANGE                   #\n",
    "###########################################\n",
    "print(f\"Error with adjusted parameters: {error_new}\")\n"
   ]
  },
  {
   "cell_type": "markdown",
   "metadata": {},
   "source": [
    "**Question**: Based on the error values, which set of parameters provides a better fit? Explain your findings in your report."
   ]
  },
  {
   "cell_type": "markdown",
   "metadata": {},
   "source": [
    "### From Linear Combination to Regression\n",
    "\n",
    "Now that we have a function that computes a linear combination of features and coefficients, and an error function to evaluate the predictions, we can attempt to automate the process of adjusting the coefficients and intercept. Previously, you adjusted these parameters manually by observing the output of the model.\n",
    "\n",
    "Here, we'll automate this process by alternating between updating the coefficients and intercept, depending on whether the error is improving.\n",
    "\n",
    "**Algorithm Outline**:\n",
    "1. **Update Coefficients**: Start by adjusting the coefficients. After each adjustment, compute the predictions and check the error.\n",
    "    - If the error decreases, continue adjusting the coefficients in the same direction (either increasing or decreasing their values).\n",
    "    - If the error increases, reverse the direction of the adjustment (i.e., subtract or add a small amount to the coefficients).\n",
    "2. **Update Intercept**: Once the coefficients reach a point where further adjustments don't reduce the error, switch to adjusting the intercept using the same mechanism.\n",
    "3. **Alternate**: Repeat the rounds of coefficients and intercept updates until the maximum number of updates is reached.\n",
    "\n",
    "This simple algorithm is a **naive attempt to implement linear regression**, where we manually alternate between updating the coefficients and intercept based on the error function.\n",
    "\n",
    "In the following cell, you will see this algorithm implemented as a `LinearRegression` class."
   ]
  },
  {
   "cell_type": "markdown",
   "metadata": {},
   "source": [
    "### Step 1: Implementing the Linear Regression Algorithm\n",
    "\n",
    "Below is the `LinearRegression` class, where the `fit` function iteratively updates the coefficients and intercept to minimize the error. Follow along with the comments to understand each part of the process."
   ]
  },
  {
   "cell_type": "code",
   "execution_count": 187,
   "metadata": {},
   "outputs": [],
   "source": [
    "from IPython.display import clear_output\n",
    "\n",
    "\n",
    "class LinearRegression:\n",
    "    def __init__(self):\n",
    "        self.coefficients = None\n",
    "        self.intercept = None\n",
    "\n",
    "    def fit(\n",
    "        self,\n",
    "        X,\n",
    "        y,\n",
    "        adjustment=0.5,  # learning rate for how much to adjust\n",
    "        max_iterations=300,  # limit the number of iterations\n",
    "        show_progress=False,  # option to visualize the training process\n",
    "        stop_after=21, # My addition, a simple thing to stop after a certain amount of iteration with no improvement. \n",
    "    ):\n",
    "        # Initialize coefficients (one for each feature) and intercept\n",
    "        ###########################################\n",
    "        #            CHANGE HERE                  #\n",
    "        ###########################################\n",
    "        self.coefficients = np.array([0]).reshape(X.shape[1], 1)\n",
    "        self.intercept = 0\n",
    "        ###########################################\n",
    "        #            END CHANGE                   #\n",
    "        ###########################################\n",
    "\n",
    "        assert (\n",
    "            X.shape[1] == self.coefficients.shape[0]\n",
    "        ), \"Dimension mismatch: X's feature dimension must match coefficients dimension\"\n",
    "\n",
    "        # Initialize the adjustment direction (either +1 or -1 to guide updates)\n",
    "        direction = 1\n",
    "\n",
    "        # Track whether we're updating coefficients (True) or intercept (False)\n",
    "        updating_coefficients = True\n",
    "        # Counter to track how many steps we've taken without improvement\n",
    "        no_improvement_count = 0\n",
    "        no_improvement_at_all_count = 0\n",
    "\n",
    "        # Initialize error tracking variables\n",
    "        previous_error = float(\"inf\")  # error from the previous iteration\n",
    "        minimum_error = float(\"inf\")   # best error within current update phase\n",
    "        global_minimum_error = float(\"inf\")  # best error across all iterations\n",
    "\n",
    "\n",
    "        ### MY ADDITION ###\n",
    "        cycle_error = float(\"inf\") # Best error within a cycle of update for both coef and intercept\n",
    "        ### END OF MY ADDITION ###\n",
    "\n",
    "\n",
    "\n",
    "        # Store the best pair of coefficients and intercept found so far\n",
    "        best_coefficients = None\n",
    "        best_intercept = None\n",
    "\n",
    "        # Start the iterative process\n",
    "        for iteration in range(max_iterations):\n",
    "            # Step 1: Compute predictions\n",
    "            ###########################################\n",
    "            #            CHANGE HERE                  #\n",
    "            ###########################################\n",
    "            y_pred = linear_combination(X, self.coefficients, self.intercept)\n",
    "            ###########################################\n",
    "            #            END CHANGE                   #\n",
    "            ###########################################\n",
    "\n",
    "            # Step 2: Calculate error using the error_metric function\n",
    "            ###########################################\n",
    "            #            CHANGE HERE                  #\n",
    "            ###########################################\n",
    "            error = error_metric(y, y_pred)\n",
    "            ###########################################\n",
    "            #            END CHANGE                   #\n",
    "            ###########################################\n",
    "\n",
    "            # Step 3: Store the best coefficients and intercept if error improves\n",
    "            if error < global_minimum_error:\n",
    "                ###########################################\n",
    "                #            CHANGE HERE                  #\n",
    "                ###########################################\n",
    "                global_minimum_error = error\n",
    "                best_coefficients = self.coefficients\n",
    "                best_intercept = self.intercept\n",
    "                ###########################################\n",
    "                #            END CHANGE                   #\n",
    "                ###########################################\n",
    "\n",
    "            # Step 4: If error increases, reverse the adjustment direction\n",
    "            if error > previous_error:\n",
    "                ###########################################\n",
    "                #            CHANGE HERE                  #\n",
    "                ###########################################\n",
    "                direction =  direction * -1\n",
    "                ###########################################\n",
    "                #            END CHANGE                   #\n",
    "                ###########################################\n",
    "                \n",
    "\n",
    "            # Step 5: Track if we're not improving and alternate updates\n",
    "            if error < minimum_error:\n",
    "                minimum_error = error\n",
    "                no_improvement_count = 0\n",
    "            \n",
    "            else:\n",
    "                no_improvement_count += 1\n",
    "            \n",
    "            ### MY ADDITION ###\n",
    "            # Track if we're not improving over an entire cycle\n",
    "            if error < cycle_error:\n",
    "                cycle_error = error\n",
    "                no_improvement_at_all_count = 0\n",
    "            else: \n",
    "                no_improvement_at_all_count +=1\n",
    "            ### END OF MY ADDITION ###\n",
    "\n",
    "            # If no improvement for 10 iterations, switch between coefficients and intercept\n",
    "            if no_improvement_count >= 10:\n",
    "                updating_coefficients = not updating_coefficients\n",
    "                no_improvement_count = 0\n",
    "                minimum_error = float(\"inf\")\n",
    "                previous_error = float(\"inf\")\n",
    "\n",
    "            # Step 6: Visualize progress (optional)\n",
    "            if show_progress:\n",
    "                clear_output(wait=True)\n",
    "                plt.figure(figsize=(10, 12))\n",
    "                plt.xlim((X.min() - 2, X.max() + 2))\n",
    "                plt.ylim(- 10, y.max() + 2)\n",
    "\n",
    "                plt.plot(X, y_pred, color=\"red\", label=\"Prediction\")\n",
    "                plt.plot(\n",
    "                    X, y, marker=\"o\", linestyle=\"None\", color=\"blue\", label=\"Data points\"\n",
    "                )\n",
    "\n",
    "                plt.xlabel(\"Feature\")\n",
    "                plt.ylabel(\"Target\")\n",
    "                plt.title(f\"Linear Regression - Iteration {iteration}, Error = {error:.2f}, Best Error = {global_minimum_error:.2f}\")\n",
    "                \n",
    "                plt.show()\n",
    "\n",
    "            # Step 7: Update either coefficients or intercept based on the current phase\n",
    "            if updating_coefficients:\n",
    "                #############################################\n",
    "                #            CHANGE HERE                    #\n",
    "                #############################################\n",
    "                self.coefficients = self.coefficients + adjustment * direction\n",
    "                #############################################\n",
    "                #            END CHANGE                     #\n",
    "                #############################################\n",
    "            else:\n",
    "                #############################################\n",
    "                #            CHANGE HERE                    #\n",
    "                #############################################\n",
    "                self.intercept = self.intercept + adjustment * direction\n",
    "                #############################################\n",
    "                #            END CHANGE                     #\n",
    "                #############################################\n",
    "\n",
    "            # Store the error for comparison in the next iteration\n",
    "            previous_error = error\n",
    "\n",
    "            ### MY ADDITION ###\n",
    "            # If we didn't improve over an entire cycle, which mean both coef and intercept got to try 10 time each, then we're finished\n",
    "            # THIS will works on the dataset we're testing here. On any bigger dataset, this is not a good way to do it. \n",
    "            if no_improvement_at_all_count >=stop_after:\n",
    "                print(f\"breaking at {iteration}th iterations\")\n",
    "                break\n",
    "            ### END OF MY ADDITION ###\n",
    "\n",
    "        # Once the loop ends, set the final coefficients and intercept to the best found values\n",
    "        self.coefficients = best_coefficients\n",
    "        self.intercept = best_intercept\n",
    "\n",
    "        print(f\"Training complete. Final Error: {global_minimum_error:.4f}\")\n",
    "\n",
    "    def predict(self, X):\n",
    "        return linear_combination(X, self.coefficients, self.intercept)\n",
    "\n"
   ]
  },
  {
   "cell_type": "markdown",
   "metadata": {},
   "source": [
    "### Step 2: Training the Model\n",
    "\n",
    "Now that we have implemented the regression algorithm, let's train the model on the dataset. We'll track the progress and visualize how the line evolves as the coefficients and intercept are updated."
   ]
  },
  {
   "cell_type": "code",
   "execution_count": 188,
   "metadata": {},
   "outputs": [
    {
     "name": "stdout",
     "output_type": "stream",
     "text": [
      "breaking at 102th iterations\n",
      "Training complete. Final Error: 0.3851\n"
     ]
    }
   ],
   "source": [
    "# Create an instance of the LinearRegression class\n",
    "model = LinearRegression()\n",
    "\n",
    "# Train the model, showing progress\n",
    "model.fit(X, y, show_progress=False, adjustment=0.1, max_iterations=300)\n",
    "\n",
    "# After training, extract the intercept and coefficients\n",
    "intercept, coefficients = model.intercept, model.coefficients\n",
    "\n",
    "# Predict the target values using the trained model\n",
    "y_pred = model.predict(X)"
   ]
  },
  {
   "cell_type": "markdown",
   "metadata": {},
   "source": [
    "### Step 3: Visualizing the Final Results\n",
    " \n",
    "After training, let's visualize the final regression line and see how well it fits the data."
   ]
  },
  {
   "cell_type": "code",
   "execution_count": 189,
   "metadata": {},
   "outputs": [
    {
     "data": {
      "image/png": "[encoded data removed]",
      "text/plain": [
       "<Figure size 1000x600 with 1 Axes>"
      ]
     },
     "metadata": {},
     "output_type": "display_data"
    }
   ],
   "source": [
    "# Visualize the final regression line\n",
    "plt.figure(figsize=(10, 6))\n",
    "plt.xlim((X.min() - 1, X.max() + 1))\n",
    "plt.ylim(y.min() - 1, y.max() + 1)\n",
    "\n",
    "plt.scatter(X, y, color=\"blue\", label=\"Actual Data\")\n",
    "plt.plot(X, y_pred, color=\"red\", label=\"Predicted Line\")\n",
    "plt.xlabel(\"Feature\")\n",
    "plt.ylabel(\"Target\")\n",
    "plt.title(f\"Final Linear Regression Results: y = {coefficients[0][0]:.2f}x + {intercept:.2f}\")\n",
    "plt.legend()\n",
    "plt.show()"
   ]
  },
  {
   "cell_type": "markdown",
   "metadata": {},
   "source": [
    "### Step 4: Reflection and Discussion\n",
    "\n",
    "While this naive approach can produce interesting results, it has several **drawbacks**. In your report, discuss these points and reflect on how this approach could be improved.\n",
    "\n"
   ]
  }
 ],
 "metadata": {
  "kernelspec": {
   "display_name": "dataScienceMain",
   "language": "python",
   "name": "python3"
  },
  "language_info": {
   "codemirror_mode": {
    "name": "ipython",
    "version": 3
   },
   "file_extension": ".py",
   "mimetype": "text/x-python",
   "name": "python",
   "nbconvert_exporter": "python",
   "pygments_lexer": "ipython3",
   "version": "3.12.6"
  }
 },
 "nbformat": 4,
 "nbformat_minor": 2
}
